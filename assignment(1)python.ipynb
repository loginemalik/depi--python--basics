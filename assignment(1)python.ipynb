{
 "cells": [
  {
   "cell_type": "code",
   "execution_count": 103,
   "metadata": {},
   "outputs": [
    {
     "name": "stdout",
     "output_type": "stream",
     "text": [
      "Hello, Python learners! Today we start our coding journey.\n",
      "Logine\n",
      "c++\n"
     ]
    }
   ],
   "source": [
    "#Section 1: Printing Messages \n",
    "# 1. Write a Python program to print the following message on the screen:\n",
    "print(\"Hello, Python learners! Today we start our coding journey.\")\n",
    "# Print a multi-line message using triple quotes that includes your name and favorite programming language. \n",
    "print(\"\"\"Logine\n",
    "c++\"\"\" )\n",
    "\n",
    "\n",
    "\n"
   ]
  },
  {
   "cell_type": "code",
   "execution_count": null,
   "metadata": {},
   "outputs": [
    {
     "name": "stdout",
     "output_type": "stream",
     "text": [
      "Iam 20 years old.\n",
      "13 is an integer value\n",
      "12.11 is a float value\n",
      "13 is a string\n"
     ]
    }
   ],
   "source": [
    "#Section 2: Variables and Data Types \n",
    "#1. Create a variable called age and assign it your age. Print a message that says, \"I am [age] years old.\"\n",
    "age=20\n",
    "print(\"Iam \" +str(age)+ \" years old.\")\n",
    "#Create three variables of different data types (integer, float, and string). Print each variable with a description of its data type.\n",
    "integer=13\n",
    "float=12.11\n",
    "string=\"python\"\n",
    "print(str(integer)+ \" is an integer value\")\n",
    "print(str(float)+ \" is a float value\")\n",
    "print(str(integer)+ \" is a string\")\n"
   ]
  },
  {
   "cell_type": "code",
   "execution_count": 75,
   "metadata": {},
   "outputs": [
    {
     "name": "stdout",
     "output_type": "stream",
     "text": [
      "amazing\n",
      "Logine Malik\n",
      "LOGINE MALIK\n"
     ]
    }
   ],
   "source": [
    "#Section 3: Working with Strings \n",
    "#1. Given the string text = \"Python is amazing\", write a program to extract and print the word \"amazing\" from it.\n",
    "text=\"Python is amazing\"\n",
    "print(text[10:17])\n",
    "#Challenge: Concatenate two strings, first_name and last_name, with a space in between, and print the full name in uppercase.\n",
    "first_name= 'Logine'\n",
    "last_name='Malik'\n",
    "print(first_name +\" \"+ last_name)\n",
    "full_name=\"Logine Malik\"\n",
    "print(full_name.upper())\n"
   ]
  },
  {
   "cell_type": "code",
   "execution_count": 78,
   "metadata": {},
   "outputs": [
    {
     "name": "stdout",
     "output_type": "stream",
     "text": [
      "50\n",
      "Addition 27\n",
      "subtraction 13\n",
      "multiplication 140\n",
      "division 2.857142857142857\n",
      "modulo 6\n"
     ]
    }
   ],
   "source": [
    "#Section 4: Basic Operations \n",
    "#1. Write a program to calculate the area of a rectangle with a width of 5 and a height of 10.\n",
    "width=5\n",
    "height=10\n",
    "area=height*width\n",
    "print(area)\n",
    "# Create two numbers, a = 20 and b = 7, and print the result of each arithmetic operation: addition, subtraction, multiplication, division, and modulo.\n",
    "a=20\n",
    "b=7\n",
    "print(\"Addition\",a+b)\n",
    "print(\"subtraction\",a-b)\n",
    "print(\"multiplication\", a*b)\n",
    "print(\"division\",a/b)\n",
    "print(\"modulo\", a%b)"
   ]
  },
  {
   "cell_type": "code",
   "execution_count": 96,
   "metadata": {},
   "outputs": [
    {
     "name": "stdout",
     "output_type": "stream",
     "text": [
      "['Dark Chocolate,Nuts,Granola,Pasta,Soup']\n",
      "The third item is Granola\n",
      "('Avocados', 'Dark Chocolate,Nuts,Granola,Pasta,Soup')\n"
     ]
    }
   ],
   "source": [
    "#Section 5: Lists and Tuples \n",
    "#1. Create a list of five of your favorite foods. Print the entire list, then print the third item in the list.\n",
    "favourite_food_list=['Dark Chocolate,Nuts,Granola,Pasta,Soup']\n",
    "print(favourite_food_list[0:4])\n",
    "third_item=\"Granola\"\n",
    "print(\"The third item is \" +str(third_item))\n",
    "#Convert the list into a tuple, and try to change the first item in the tuple.\n",
    "favourite_food_tuple={'Dark Chocolate,Nuts,Granola,Pasta,Soup'}\n",
    "favourite_food_list.insert(0,\"Avocados\")\n",
    "favourite_food_tuple=tuple(favourite_food_list) #tuples can not be changed after its executed so change the original list then assign it to the tuples\n",
    "print(favourite_food_tuple)\n",
    "\n"
   ]
  },
  {
   "cell_type": "code",
   "execution_count": 98,
   "metadata": {},
   "outputs": [
    {
     "name": "stdout",
     "output_type": "stream",
     "text": [
      "Python\n",
      "Learning Python is awesome!\n"
     ]
    }
   ],
   "source": [
    "#Section 6: String Manipulation and Slicing \n",
    "#1. Given the string sentence = \"Learning Python is fun!\", write a program to slice and print the word \"Python\" from it.\n",
    "text='Learning Python is fun!'\n",
    "print(text[9:15])\n",
    "#Replace the word \"fun\" with \"awesome\" in the sentence and print the new sentence.\n",
    "new_text=text.replace(\"fun\",\"awesome\")\n",
    "print(new_text)"
   ]
  },
  {
   "cell_type": "code",
   "execution_count": 100,
   "metadata": {},
   "outputs": [
    {
     "name": "stdout",
     "output_type": "stream",
     "text": [
      "{'name': 'Logine', 'age': 20, 'grade': 'A+'}\n",
      "{'name': 'Logine', 'age': 20, 'grade': 'A+', 'city': 'cairo'}\n"
     ]
    }
   ],
   "source": [
    "#Section 7: Dictionaries \n",
    "#1. Create a dictionary called student with the keys name, age, and grade. Assign values to each key and print the dictionary.\n",
    "Student={\n",
    "    'name':\"Logine\",\n",
    "    'age':20,\n",
    "    'grade':\"A+\"\n",
    "    }\n",
    "print(Student)\n",
    "# Add a new key city to the dictionary and set it to any city name. Print the updated dictionary.\n",
    "Student['city']='cairo'\n",
    "print(Student)"
   ]
  },
  {
   "cell_type": "code",
   "execution_count": null,
   "metadata": {},
   "outputs": [],
   "source": [
    "#Section8: Basic Arithmetic Operations \n",
    "#1. Write a program that takes two numbers from the user and prints their sum, difference, product, and division result.\n",
    "num_1= float(input(\"Enter first number: \"))\n",
    "num_2= float(input(\"Enter second number: \"))\n",
    "\n",
    "print(\"sum:\", num_1+num_2)\n",
    "print(\"difference\", num_1-num_2)\n",
    "print(\"product\" , num_1*num_2)\n",
    "\n",
    "if num_2!=0:\n",
    "    print(\"Division:\", num_1 / num_2)\n",
    "else:\n",
    "    print(\"Division: Can not divide by zero\")    \n",
    "\n",
    "if num_2!=0:\n",
    " if num_1 % num_2 == 0:\n",
    "    print (\"Divisible\")\n",
    "else:\n",
    "    print(\"Not Divisible\")\n",
    " else:\n",
    "  print(\"Divisible check: Cannot divide by zero\")"
   ]
  }
 ],
 "metadata": {
  "kernelspec": {
   "display_name": "Python 3",
   "language": "python",
   "name": "python3"
  },
  "language_info": {
   "codemirror_mode": {
    "name": "ipython",
    "version": 3
   },
   "file_extension": ".py",
   "mimetype": "text/x-python",
   "name": "python",
   "nbconvert_exporter": "python",
   "pygments_lexer": "ipython3",
   "version": "3.13.0"
  }
 },
 "nbformat": 4,
 "nbformat_minor": 2
}
