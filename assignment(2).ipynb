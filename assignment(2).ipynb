{
 "cells": [
  {
   "cell_type": "code",
   "execution_count": 10,
   "metadata": {},
   "outputs": [
    {
     "name": "stdout",
     "output_type": "stream",
     "text": [
      "[1, 3, 5, 7, 9]\n",
      "[15, 17, 19]\n",
      "[7, 9, 11, 13, 15]\n"
     ]
    }
   ],
   "source": [
    "list=[1,3,5,7,9,11,13,15,17,19]\n",
    "print(list[:5])\n",
    "print(list[-3:])\n",
    "print(list[3:8])"
   ]
  },
  {
   "cell_type": "code",
   "execution_count": 13,
   "metadata": {},
   "outputs": [
    {
     "name": "stdout",
     "output_type": "stream",
     "text": [
      "['apple', 'blueberry', 'kiwi', 'banana', 'strawberry', 'orange']\n"
     ]
    }
   ],
   "source": [
    "#Creates a list of 5 different fruits.\n",
    "fruits=['apple','blueberry','kiwi','banana','strawberry']\n",
    "\n",
    "#Add two more fruits to the list. \n",
    "fruits.append('orange')\n",
    "fruits.append('raspberry')\n",
    "\n",
    "#Remove the last fruit in the list.\n",
    "fruits.pop()\n",
    "\n",
    "#Print the updated list.\n",
    "print(fruits)\n",
    "\n"
   ]
  },
  {
   "cell_type": "code",
   "execution_count": null,
   "metadata": {},
   "outputs": [
    {
     "name": "stdout",
     "output_type": "stream",
     "text": [
      "luxor\n"
     ]
    },
    {
     "ename": "AttributeError",
     "evalue": "'tuple' object has no attribute 'insert'",
     "output_type": "error",
     "traceback": [
      "\u001b[1;31m---------------------------------------------------------------------------\u001b[0m",
      "\u001b[1;31mAttributeError\u001b[0m                            Traceback (most recent call last)",
      "Cell \u001b[1;32mIn[23], line 5\u001b[0m\n\u001b[0;32m      3\u001b[0m \u001b[38;5;66;03m#Create a tuple that contains 5 different cities.\u001b[39;00m\n\u001b[0;32m      4\u001b[0m \u001b[38;5;28mprint\u001b[39m(cities[\u001b[38;5;241m1\u001b[39m])\n\u001b[1;32m----> 5\u001b[0m \u001b[43mcities\u001b[49m\u001b[38;5;241;43m.\u001b[39;49m\u001b[43minsert\u001b[49m(\u001b[38;5;241m1\u001b[39m,\u001b[38;5;124m\"\u001b[39m\u001b[38;5;124mmansoura\u001b[39m\u001b[38;5;124m\"\u001b[39m)\n\u001b[0;32m      6\u001b[0m \u001b[38;5;28mprint\u001b[39m(cities)\n",
      "\u001b[1;31mAttributeError\u001b[0m: 'tuple' object has no attribute 'insert'"
     ]
    }
   ],
   "source": [
    "#Create a tuple that contains 5 different cities.\n",
    "cities=('cairo','luxor','aswan','giza','alexandria')\n",
    "#Create a tuple that contains 5 different cities.\n",
    "print(cities[1])\n",
    "cities.insert(1,\"mansoura\") #cant change tuple values after creating it\n",
    "\n"
   ]
  },
  {
   "cell_type": "code",
   "execution_count": 28,
   "metadata": {},
   "outputs": [
    {
     "name": "stdout",
     "output_type": "stream",
     "text": [
      "30\n",
      "{'name': 'John', 'age': 30, 'job': 'Engineer'}\n"
     ]
    }
   ],
   "source": [
    "#Write a Python program that creates a dictionary with the following keys and values:\n",
    "dict={'name':'John','age':30,'city':'New york'}\n",
    "#Print the value of the 'age' key. \n",
    "print(dict['age'])\n",
    "#Add a new key-value pair 'job': 'Engineer' to the dictionary.\n",
    "dict['job']='Engineer'\n",
    "#Remove the 'city' key and print the updated dictionary. \n",
    "dict.pop('city')\n",
    "print(dict)"
   ]
  },
  {
   "cell_type": "code",
   "execution_count": 30,
   "metadata": {},
   "outputs": [
    {
     "name": "stdout",
     "output_type": "stream",
     "text": [
      "Elena is 20 years old\n",
      "Jasmine is 34 years old\n",
      "mark is 23 years old\n"
     ]
    }
   ],
   "source": [
    "# Write a Python program that:  Creates a dictionary to store the names and ages of 3 people. Print each person's name and their corresponding age using a loop.\n",
    "people={'Elena':20,'Jasmine':34,'mark':23}\n",
    "for name, age in people.items():\n",
    "    print(f'{name} is {age} years old')"
   ]
  },
  {
   "cell_type": "code",
   "execution_count": null,
   "metadata": {},
   "outputs": [],
   "source": [
    "# Write a Python program that takes the user's age as input and prints:  'Adult' if the age is 18 or older. 'Minor' if the age is less than 18. \n",
    "usersage=int(input(\"Enter age\"))\n",
    "if age>=18:\n",
    "    print(\"Adult\")\n",
    "else:\n",
    "    print(\"minor\")\n"
   ]
  },
  {
   "cell_type": "code",
   "execution_count": null,
   "metadata": {},
   "outputs": [],
   "source": [
    "# Write a Python program that checks if a number entered by the user is:  'Even' if it is divisible by 2.'Odd' if it is not divisible by 2. \n",
    "number=int(input(\"Enter number\"))\n",
    "if number %2==0:\n",
    "    print(\"even\")\n",
    "else:\n",
    "    print(\"odd\")\n"
   ]
  },
  {
   "cell_type": "code",
   "execution_count": null,
   "metadata": {},
   "outputs": [],
   "source": [
    "#Write a Python program that: Takes a score from the user and prints the grade \n",
    "grade=int(input(\"Enter your grade\"))\n",
    "if grade>=90:\n",
    "    print(\"A\")\n",
    "elif 70 <= grade < 90:\n",
    "    print(\"B\")\n",
    "elif 50 <= grade < 70:\n",
    "    print(\"C\")\n",
    "else: \n",
    " print(\"F\")\n",
    "\n"
   ]
  },
  {
   "cell_type": "code",
   "execution_count": null,
   "metadata": {},
   "outputs": [],
   "source": [
    "#Write a Python program that uses a for loop to print all even numbers between 1 and 20.\n",
    "for number in range(1,21):\n",
    " if number %2==0:\n",
    "    print(number)"
   ]
  },
  {
   "cell_type": "code",
   "execution_count": null,
   "metadata": {},
   "outputs": [],
   "source": [
    "num=10\n",
    "while num>=1:\n",
    "    print(num)\n",
    "    num-=1"
   ]
  },
  {
   "cell_type": "code",
   "execution_count": null,
   "metadata": {},
   "outputs": [],
   "source": [
    "#Write a Python program that: Asks the user to input a number. Then, using a for loop, calculates the sum of all numbers from 1 to the entered number and prints the result.\n",
    "total=0\n",
    "num=int(input(\"Enter a number please:\"))\n",
    "for i in range(1,num+1):\n",
    " total+=i\n",
    "print(f\"the sum of numbers from 1 to {num}is {total}.\")\n"
   ]
  },
  {
   "cell_type": "code",
   "execution_count": null,
   "metadata": {},
   "outputs": [],
   "source": [
    "# Write a Python program that asks the user for their name and age, then prints a message saying: \"Hello, [name]! You are [age] years old.\"\n",
    "name = input(\"What is your name? \")\n",
    "age = input(\"How old are you? \")\n",
    "\n",
    "print(f\"Hello, {name}! You are {age} years old.\")"
   ]
  },
  {
   "cell_type": "code",
   "execution_count": null,
   "metadata": {},
   "outputs": [],
   "source": [
    "# Write a Python program that asks the user for their favorite color and checks if it is 'blue'. If it is, print \"You have great taste!\", otherwise print \"That's a nice color too!\"\n",
    "favorite_color = input(\"What is your favorite color? \")\n",
    "\n",
    "if favorite_color.lower() == 'blue':\n",
    "    print(\"You have great taste!\")\n",
    "else:\n",
    "    print(\"That's a nice color too!\")"
   ]
  },
  {
   "cell_type": "code",
   "execution_count": null,
   "metadata": {},
   "outputs": [],
   "source": [
    "#Write a Python program that asks the user to enter a list of 5 numbers. Then:\n",
    " numbers = []\n",
    "for i in range(5):\n",
    "    num = float(input(f\"Enter number {i + 1}: \"))\n",
    "    numbers.append(num)\n",
    "\n",
    "average = sum(numbers) / len(numbers)\n",
    "\n",
    "largest = max(numbers)\n",
    "smallest = min(numbers)\n",
    "\n",
    "print(f\"The average of the numbers is: {average}\")\n",
    "print(f\"The largest number is: {largest}\")\n",
    "print(f\"The smallest number is: {smallest}\")"
   ]
  }
 ],
 "metadata": {
  "kernelspec": {
   "display_name": "Python 3",
   "language": "python",
   "name": "python3"
  },
  "language_info": {
   "codemirror_mode": {
    "name": "ipython",
    "version": 3
   },
   "file_extension": ".py",
   "mimetype": "text/x-python",
   "name": "python",
   "nbconvert_exporter": "python",
   "pygments_lexer": "ipython3",
   "version": "3.13.0"
  }
 },
 "nbformat": 4,
 "nbformat_minor": 2
}
